{
 "cells": [
  {
   "cell_type": "code",
   "execution_count": 1,
   "metadata": {},
   "outputs": [],
   "source": [
    "import pandas as pd\n",
    "from sklearn.decomposition import PCA\n",
    "import numpy as np\n",
    "from sklearn import preprocessing\n",
    "from sklearn.linear_model import LinearRegression\n",
    "from sklearn.model_selection import cross_val_score\n",
    "\n",
    "macro = pd.read_csv('macro.csv')\n",
    "dd = pd.read_csv('data_dict.csv')\n",
    "train = pd.read_csv('train.csv')"
   ]
  },
  {
   "cell_type": "code",
   "execution_count": 2,
   "metadata": {},
   "outputs": [
    {
     "data": {
      "text/plain": [
       "Index(['id', 'timestamp', 'full_sq', 'life_sq', 'floor', 'max_floor',\n",
       "       'material', 'build_year', 'num_room', 'kitch_sq',\n",
       "       ...\n",
       "       'cafe_count_5000_price_2500', 'cafe_count_5000_price_4000',\n",
       "       'cafe_count_5000_price_high', 'big_church_count_5000',\n",
       "       'church_count_5000', 'mosque_count_5000', 'leisure_count_5000',\n",
       "       'sport_count_5000', 'market_count_5000', 'price_doc'],\n",
       "      dtype='object', length=292)"
      ]
     },
     "execution_count": 2,
     "metadata": {},
     "output_type": "execute_result"
    }
   ],
   "source": [
    "train.columns"
   ]
  },
  {
   "cell_type": "markdown",
   "metadata": {},
   "source": [
    "## Picking Features from Macro"
   ]
  },
  {
   "cell_type": "code",
   "execution_count": 3,
   "metadata": {},
   "outputs": [],
   "source": [
    "macro.head()\n",
    "m = macro.drop(['timestamp', 'child_on_acc_pre_school', 'modern_education_share', 'old_education_build_share'], axis=1)\n",
    "m = m.dropna()"
   ]
  },
  {
   "cell_type": "code",
   "execution_count": 4,
   "metadata": {},
   "outputs": [
    {
     "name": "stderr",
     "output_type": "stream",
     "text": [
      "/Users/brookelhanna/anaconda3/lib/python3.7/site-packages/sklearn/preprocessing/data.py:197: UserWarning: Numerical issues were encountered when scaling the data and might not be solved. The standard deviation of the data is probably very close to 0. \n",
      "  warnings.warn(\"Numerical issues were encountered \"\n"
     ]
    }
   ],
   "source": [
    "data_scaled = pd.DataFrame(preprocessing.scale(m), columns = m.columns) \n",
    "\n",
    "pca = PCA(n_components=1)\n",
    "pca.fit_transform(data_scaled)\n",
    "\n",
    "results = pd.DataFrame(pca.components_,columns=data_scaled.columns)\n",
    "results = results.abs()\n",
    "results.sort_values(by = [0], axis=1, ascending=False, inplace=True)"
   ]
  },
  {
   "cell_type": "code",
   "execution_count": 5,
   "metadata": {},
   "outputs": [
    {
     "data": {
      "text/html": [
       "<div>\n",
       "<style scoped>\n",
       "    .dataframe tbody tr th:only-of-type {\n",
       "        vertical-align: middle;\n",
       "    }\n",
       "\n",
       "    .dataframe tbody tr th {\n",
       "        vertical-align: top;\n",
       "    }\n",
       "\n",
       "    .dataframe thead th {\n",
       "        text-align: right;\n",
       "    }\n",
       "</style>\n",
       "<table border=\"1\" class=\"dataframe\">\n",
       "  <thead>\n",
       "    <tr style=\"text-align: right;\">\n",
       "      <th></th>\n",
       "      <th>mortgage_value</th>\n",
       "      <th>deposits_value</th>\n",
       "      <th>mortgage_rate</th>\n",
       "      <th>net_capital_export</th>\n",
       "      <th>rent_price_2room_eco</th>\n",
       "      <th>rts</th>\n",
       "      <th>rent_price_1room_eco</th>\n",
       "      <th>micex</th>\n",
       "      <th>gdp_quart</th>\n",
       "      <th>rent_price_1room_bus</th>\n",
       "      <th>...</th>\n",
       "      <th>pop_total_inc</th>\n",
       "      <th>pop_natural_increase</th>\n",
       "      <th>unprofitable_enterpr_share</th>\n",
       "      <th>invest_fixed_assets_phys</th>\n",
       "      <th>divorce_rate</th>\n",
       "      <th>marriages_per_1000_cap</th>\n",
       "      <th>fin_res_per_cap</th>\n",
       "      <th>overdue_wages_per_cap</th>\n",
       "      <th>share_own_revenues</th>\n",
       "      <th>apartment_fund_sqm</th>\n",
       "    </tr>\n",
       "  </thead>\n",
       "  <tbody>\n",
       "    <tr>\n",
       "      <th>0</th>\n",
       "      <td>0.246347</td>\n",
       "      <td>0.243305</td>\n",
       "      <td>0.238557</td>\n",
       "      <td>0.232085</td>\n",
       "      <td>0.231692</td>\n",
       "      <td>0.229822</td>\n",
       "      <td>0.228511</td>\n",
       "      <td>0.227866</td>\n",
       "      <td>0.225961</td>\n",
       "      <td>0.212284</td>\n",
       "      <td>...</td>\n",
       "      <td>0.0</td>\n",
       "      <td>0.0</td>\n",
       "      <td>0.0</td>\n",
       "      <td>0.0</td>\n",
       "      <td>0.0</td>\n",
       "      <td>0.0</td>\n",
       "      <td>0.0</td>\n",
       "      <td>0.0</td>\n",
       "      <td>0.0</td>\n",
       "      <td>0.0</td>\n",
       "    </tr>\n",
       "  </tbody>\n",
       "</table>\n",
       "<p>1 rows × 96 columns</p>\n",
       "</div>"
      ],
      "text/plain": [
       "   mortgage_value  deposits_value  mortgage_rate  net_capital_export  \\\n",
       "0        0.246347        0.243305       0.238557            0.232085   \n",
       "\n",
       "   rent_price_2room_eco       rts  rent_price_1room_eco     micex  gdp_quart  \\\n",
       "0              0.231692  0.229822              0.228511  0.227866   0.225961   \n",
       "\n",
       "   rent_price_1room_bus  ...  pop_total_inc  pop_natural_increase  \\\n",
       "0              0.212284  ...            0.0                   0.0   \n",
       "\n",
       "   unprofitable_enterpr_share  invest_fixed_assets_phys  divorce_rate  \\\n",
       "0                         0.0                       0.0           0.0   \n",
       "\n",
       "   marriages_per_1000_cap  fin_res_per_cap  overdue_wages_per_cap  \\\n",
       "0                     0.0              0.0                    0.0   \n",
       "\n",
       "   share_own_revenues  apartment_fund_sqm  \n",
       "0                 0.0                 0.0  \n",
       "\n",
       "[1 rows x 96 columns]"
      ]
     },
     "execution_count": 5,
     "metadata": {},
     "output_type": "execute_result"
    }
   ],
   "source": [
    "results"
   ]
  },
  {
   "cell_type": "code",
   "execution_count": 6,
   "metadata": {},
   "outputs": [
    {
     "data": {
      "text/plain": [
       "10"
      ]
     },
     "execution_count": 6,
     "metadata": {},
     "output_type": "execute_result"
    }
   ],
   "source": [
    "macro_cols = ['mortgage_value', 'deposits_value', 'mortgage_rate', 'net_capital_export', 'rent_price_2room_eco', \n",
    "              'rts','rent_price_1room_eco', 'micex', 'gdp_quart', 'rent_price_1room_bus']\n",
    "macrodf = macro[['timestamp'] + macro_cols]\n",
    "len(macro_cols)"
   ]
  },
  {
   "cell_type": "markdown",
   "metadata": {},
   "source": [
    "## Picking Features from Dataset"
   ]
  },
  {
   "cell_type": "code",
   "execution_count": 7,
   "metadata": {},
   "outputs": [
    {
     "name": "stderr",
     "output_type": "stream",
     "text": [
      "/Users/brookelhanna/anaconda3/lib/python3.7/site-packages/ipykernel_launcher.py:6: DataConversionWarning: Data with input dtype int64, float64 were all converted to float64 by the scale function.\n",
      "  \n"
     ]
    }
   ],
   "source": [
    "train2 = train.drop(columns=['timestamp', 'culture_objects_top_25', 'product_type', 'sub_area', 'nuclear_reactor_raion',\n",
    "                             'thermal_power_plant_raion', 'incineration_raion', 'oil_chemistry_raion', \n",
    "                            'radiation_raion', 'railroad_terminal_raion', 'big_market_raion', 'ecology',\n",
    "                             'detention_facility_raion', 'water_1line', 'big_road1_1line', 'railroad_1line'])\n",
    "train2 = train2.dropna()\n",
    "train_scaled = pd.DataFrame(preprocessing.scale(train2), columns = train2.columns) \n",
    "\n",
    "pca2 = PCA(n_components = 1)\n",
    "pca2.fit_transform(train_scaled)\n",
    "\n",
    "train_results = pd.DataFrame(pca2.components_, columns = train_scaled.columns)\n",
    "train_results = train_results.abs()\n",
    "train_results.sort_values(by = [0], axis=1, ascending=False, inplace=True)"
   ]
  },
  {
   "cell_type": "code",
   "execution_count": 8,
   "metadata": {},
   "outputs": [
    {
     "data": {
      "text/plain": [
       "40"
      ]
     },
     "execution_count": 8,
     "metadata": {},
     "output_type": "execute_result"
    }
   ],
   "source": [
    "''' Picked these columns from the highest PCA scores, but also got rid of duplicates \n",
    "like office_count_3000 and office_count_5000'''\n",
    "\n",
    "train_cols = ['office_count_3000','cafe_count_3000','church_count_3000','leisure_count_3000','big_church_count_3000',\n",
    "              'office_count_5000','office_sqm_3000','sport_count_3000','trc_count_3000','kremlin_km','mkad_km',\n",
    "              'sport_objects_raion', 'bulvar_ring_km','build_count_brick', 'university_top_20_raion','sadovoe_km',\n",
    "              'mosque_count_3000','zd_vokzaly_avto_km','shopping_centers_raion','school_education_centers_top_20_raion',\n",
    "              'build_count_1921-1945','green_part_5000','additional_education_raion','ID_metro','museum_km','theater_km',\n",
    "              'work_all','detention_facility_km','power_transmission_line_km','children_preschool', 'ice_rink_km',\n",
    "             'industrial_km', 'kindergarten_km','university_km','green_zone_part','0_17_male','ekder_female','0_17_all',\n",
    "             'hospice_morgue_km','basketball_km']\n",
    "len(train_cols)"
   ]
  },
  {
   "cell_type": "code",
   "execution_count": 9,
   "metadata": {},
   "outputs": [],
   "source": [
    "traindf = train[['id', 'timestamp', 'price_doc'] + train_cols]"
   ]
  },
  {
   "cell_type": "code",
   "execution_count": 10,
   "metadata": {},
   "outputs": [],
   "source": [
    "df = traindf.merge(macrodf, on='timestamp')"
   ]
  },
  {
   "cell_type": "markdown",
   "metadata": {},
   "source": [
    "### Filling in Missing Values"
   ]
  },
  {
   "cell_type": "code",
   "execution_count": 11,
   "metadata": {},
   "outputs": [
    {
     "data": {
      "text/html": [
       "<div>\n",
       "<style scoped>\n",
       "    .dataframe tbody tr th:only-of-type {\n",
       "        vertical-align: middle;\n",
       "    }\n",
       "\n",
       "    .dataframe tbody tr th {\n",
       "        vertical-align: top;\n",
       "    }\n",
       "\n",
       "    .dataframe thead th {\n",
       "        text-align: right;\n",
       "    }\n",
       "</style>\n",
       "<table border=\"1\" class=\"dataframe\">\n",
       "  <thead>\n",
       "    <tr style=\"text-align: right;\">\n",
       "      <th></th>\n",
       "      <th>build_count_brick</th>\n",
       "      <th>build_count_1921-1945</th>\n",
       "    </tr>\n",
       "  </thead>\n",
       "  <tbody>\n",
       "    <tr>\n",
       "      <th>0</th>\n",
       "      <td>0.0</td>\n",
       "      <td>0.0</td>\n",
       "    </tr>\n",
       "    <tr>\n",
       "      <th>1</th>\n",
       "      <td>67.0</td>\n",
       "      <td>1.0</td>\n",
       "    </tr>\n",
       "    <tr>\n",
       "      <th>2</th>\n",
       "      <td>206.0</td>\n",
       "      <td>0.0</td>\n",
       "    </tr>\n",
       "    <tr>\n",
       "      <th>3</th>\n",
       "      <td>124.0</td>\n",
       "      <td>24.0</td>\n",
       "    </tr>\n",
       "    <tr>\n",
       "      <th>4</th>\n",
       "      <td>643.0</td>\n",
       "      <td>114.0</td>\n",
       "    </tr>\n",
       "  </tbody>\n",
       "</table>\n",
       "</div>"
      ],
      "text/plain": [
       "   build_count_brick  build_count_1921-1945\n",
       "0                0.0                    0.0\n",
       "1               67.0                    1.0\n",
       "2              206.0                    0.0\n",
       "3              124.0                   24.0\n",
       "4              643.0                  114.0"
      ]
     },
     "execution_count": 11,
     "metadata": {},
     "output_type": "execute_result"
    }
   ],
   "source": [
    "df[['build_count_brick', 'build_count_1921-1945']].head()"
   ]
  },
  {
   "cell_type": "code",
   "execution_count": 12,
   "metadata": {},
   "outputs": [
    {
     "data": {
      "text/plain": [
       "(build_count_brick    108.048705\n",
       " dtype: float64, build_count_1921-1945    26.721586\n",
       " dtype: float64)"
      ]
     },
     "execution_count": 12,
     "metadata": {},
     "output_type": "execute_result"
    }
   ],
   "source": [
    "(df[['build_count_brick']].mean(), df[['build_count_1921-1945']].mean())"
   ]
  },
  {
   "cell_type": "code",
   "execution_count": 13,
   "metadata": {},
   "outputs": [],
   "source": [
    "df[['build_count_brick']] = df[['build_count_brick']].fillna(108.0)\n",
    "df[['build_count_1921-1945']] = df[['build_count_1921-1945']].fillna(26.7)"
   ]
  },
  {
   "cell_type": "code",
   "execution_count": 14,
   "metadata": {},
   "outputs": [],
   "source": [
    "df.to_csv(\"house_dataset.csv\", index=False)"
   ]
  },
  {
   "cell_type": "markdown",
   "metadata": {},
   "source": [
    "## Data Dictionary"
   ]
  },
  {
   "cell_type": "code",
   "execution_count": 15,
   "metadata": {},
   "outputs": [],
   "source": [
    "data = pd.read_csv('house_dataset.csv')\n",
    "dd = pd.read_csv('data_dict.csv')"
   ]
  },
  {
   "cell_type": "code",
   "execution_count": 16,
   "metadata": {},
   "outputs": [],
   "source": [
    "ids = []\n",
    "for index, row in dd.iterrows():\n",
    "    if row['column'] in list(data.columns):\n",
    "        ids.append(index)"
   ]
  },
  {
   "cell_type": "code",
   "execution_count": 17,
   "metadata": {},
   "outputs": [
    {
     "name": "stderr",
     "output_type": "stream",
     "text": [
      "/Users/brookelhanna/anaconda3/lib/python3.7/site-packages/pandas/core/frame.py:3940: SettingWithCopyWarning: \n",
      "A value is trying to be set on a copy of a slice from a DataFrame\n",
      "\n",
      "See the caveats in the documentation: http://pandas.pydata.org/pandas-docs/stable/indexing.html#indexing-view-versus-copy\n",
      "  errors=errors)\n"
     ]
    }
   ],
   "source": [
    "data_dictionary = dd.iloc[ids]\n",
    "# remove duplicate\n",
    "data_dictionary.drop([38], axis=0, inplace = True)"
   ]
  },
  {
   "cell_type": "code",
   "execution_count": 18,
   "metadata": {},
   "outputs": [],
   "source": [
    "data_dictionary.to_csv(\"features_dict.csv\", index = False)"
   ]
  },
  {
   "cell_type": "markdown",
   "metadata": {},
   "source": [
    "## Linear Regression"
   ]
  },
  {
   "cell_type": "code",
   "execution_count": 19,
   "metadata": {},
   "outputs": [
    {
     "data": {
      "text/plain": [
       "0.19315113239466353"
      ]
     },
     "execution_count": 19,
     "metadata": {},
     "output_type": "execute_result"
    }
   ],
   "source": [
    "from sklearn.linear_model import LinearRegression\n",
    "y = df[['price_doc']]\n",
    "x = df.drop(columns = ['id', 'timestamp', 'price_doc'])\n",
    "reg = LinearRegression().fit(x, y)\n",
    "reg.score(x,y)"
   ]
  },
  {
   "cell_type": "code",
   "execution_count": 20,
   "metadata": {},
   "outputs": [],
   "source": [
    "x = df.drop(columns = ['id', 'timestamp'])\n",
    "y = train[['price_doc']]\n",
    "reg = LinearRegression()"
   ]
  },
  {
   "cell_type": "code",
   "execution_count": 21,
   "metadata": {},
   "outputs": [
    {
     "data": {
      "text/plain": [
       "-9.891878563412996e-18"
      ]
     },
     "execution_count": 21,
     "metadata": {},
     "output_type": "execute_result"
    }
   ],
   "source": [
    "# cross val\n",
    "cross_val_score(reg, x, y, cv=5, scoring='neg_mean_squared_error').mean()"
   ]
  },
  {
   "cell_type": "code",
   "execution_count": 22,
   "metadata": {},
   "outputs": [
    {
     "data": {
      "text/plain": [
       "1.0"
      ]
     },
     "execution_count": 22,
     "metadata": {},
     "output_type": "execute_result"
    }
   ],
   "source": [
    "# R-Squared\n",
    "reg.fit(x,y)\n",
    "reg.score(x,y)"
   ]
  },
  {
   "cell_type": "code",
   "execution_count": 23,
   "metadata": {},
   "outputs": [],
   "source": [
    "# get coefficients for report\n",
    "c1=np.transpose(pd.DataFrame(reg.coef_))[:25]\n",
    "c2=np.transpose(pd.DataFrame(reg.coef_))[25:]\n",
    "pd.DataFrame({'coefficients': pd.Series(list(c1[0])), 'coefficients_2': pd.Series(list(c2[0]))}).to_csv(\"weights.csv\", index=False)"
   ]
  },
  {
   "cell_type": "code",
   "execution_count": null,
   "metadata": {},
   "outputs": [],
   "source": []
  },
  {
   "cell_type": "code",
   "execution_count": null,
   "metadata": {},
   "outputs": [],
   "source": []
  }
 ],
 "metadata": {
  "kernelspec": {
   "display_name": "Python 3",
   "language": "python",
   "name": "python3"
  },
  "language_info": {
   "codemirror_mode": {
    "name": "ipython",
    "version": 3
   },
   "file_extension": ".py",
   "mimetype": "text/x-python",
   "name": "python",
   "nbconvert_exporter": "python",
   "pygments_lexer": "ipython3",
   "version": "3.7.3"
  }
 },
 "nbformat": 4,
 "nbformat_minor": 2
}
